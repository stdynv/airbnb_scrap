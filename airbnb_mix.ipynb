{
 "cells": [
  {
   "cell_type": "code",
   "execution_count": 79,
   "metadata": {},
   "outputs": [],
   "source": [
    "import time \n",
    "import pandas as pd\n",
    "from selenium import webdriver\n",
    "import json\n",
    "from pymongo import MongoClient\n",
    "import pymongo"
   ]
  },
  {
   "cell_type": "markdown",
   "metadata": {},
   "source": [
    "### Selenium Driver"
   ]
  },
  {
   "cell_type": "code",
   "execution_count": 2,
   "metadata": {},
   "outputs": [
    {
     "name": "stderr",
     "output_type": "stream",
     "text": [
      "C:\\Users\\Yassine\\AppData\\Local\\Temp\\ipykernel_9560\\701231104.py:1: DeprecationWarning: executable_path has been deprecated, please pass in a Service object\n",
      "  browser = webdriver.Chrome('C:\\\\Users\\\\Yassine\\\\Documents\\\\Python_Projects\\\\Beginner\\\\basics\\\\chromedriver.exe')\n"
     ]
    }
   ],
   "source": [
    "browser = webdriver.Chrome('C:\\\\Users\\\\Yassine\\\\Documents\\\\Python_Projects\\\\Beginner\\\\basics\\\\chromedriver.exe')"
   ]
  },
  {
   "cell_type": "markdown",
   "metadata": {},
   "source": [
    "### Website"
   ]
  },
  {
   "cell_type": "code",
   "execution_count": 3,
   "metadata": {},
   "outputs": [],
   "source": [
    "browser.get('http://airbnb.com')"
   ]
  },
  {
   "cell_type": "markdown",
   "metadata": {},
   "source": [
    "# get titles"
   ]
  },
  {
   "cell_type": "code",
   "execution_count": 80,
   "metadata": {},
   "outputs": [],
   "source": [
    "def get_titles():\n",
    "    scrap_titles = browser.find_elements_by_xpath('//*[@class=\"mj1p6c8 dir dir-ltr\"]')\n",
    "    titles = [scrap.text for scrap in scrap_titles]\n",
    "    all_titles.extend(titles)\n"
   ]
  },
  {
   "cell_type": "markdown",
   "metadata": {},
   "source": [
    "### Get Price per Night"
   ]
  },
  {
   "cell_type": "code",
   "execution_count": 81,
   "metadata": {},
   "outputs": [],
   "source": [
    "def get_price():\n",
    "    scrap_prices = browser.find_elements_by_xpath('//*[@class=\"p1qe1cgb dir dir-ltr\"]/div/div/div/div/span[@class=\"_tyxjp1\"]')\n",
    "    prices = [price.text for price in scrap_prices]\n",
    "    all_prices.extend(prices)"
   ]
  },
  {
   "cell_type": "markdown",
   "metadata": {},
   "source": [
    "### Scrap Number allowed Guests"
   ]
  },
  {
   "cell_type": "code",
   "execution_count": 82,
   "metadata": {},
   "outputs": [],
   "source": [
    "def get_guests():\n",
    "    scrap_nb_guests = browser.find_elements_by_xpath(\"//div[@class='i1wgresd dir dir-ltr'][1]/span[1]\")\n",
    "    nb_guests = [x.text for x in scrap_nb_guests]\n",
    "    all_guests.extend(nb_guests)"
   ]
  },
  {
   "cell_type": "markdown",
   "metadata": {},
   "source": [
    "### Scrap Rooms Disposition"
   ]
  },
  {
   "cell_type": "code",
   "execution_count": 83,
   "metadata": {},
   "outputs": [],
   "source": [
    "def type_rooms() :\n",
    "    scrap_type_rooms = browser.find_elements_by_xpath(\"//div[@class='i1wgresd dir dir-ltr'][1]/span[3]\")\n",
    "    type_rooms = [x.text for x in scrap_type_rooms]\n",
    "    all_type_rooms.extend(type_rooms)"
   ]
  },
  {
   "cell_type": "markdown",
   "metadata": {},
   "source": [
    "### Scrap Title Description"
   ]
  },
  {
   "cell_type": "code",
   "execution_count": 84,
   "metadata": {},
   "outputs": [],
   "source": [
    "def get_title_description() :\n",
    "    scrap_title_desciption = browser.find_elements_by_xpath(\"//span[@class='ts5gl90 tl3qa0j t1nzedvd dir dir-ltr']\")\n",
    "    descriptions = [description.text for description in scrap_title_desciption]\n",
    "    all_description.extend(descriptions)"
   ]
  },
  {
   "cell_type": "markdown",
   "metadata": {},
   "source": [
    "### Scrap ALL Pages"
   ]
  },
  {
   "cell_type": "code",
   "execution_count": 92,
   "metadata": {},
   "outputs": [
    {
     "name": "stderr",
     "output_type": "stream",
     "text": [
      "C:\\Users\\Yassine\\AppData\\Local\\Temp\\ipykernel_9560\\961566130.py:7: DeprecationWarning: find_element_by_xpath is deprecated. Please use find_element(by=By.XPATH, value=xpath) instead\n",
      "  button = browser.find_element_by_xpath(xpath)\n",
      "C:\\Users\\Yassine\\AppData\\Local\\Temp\\ipykernel_9560\\668271012.py:2: DeprecationWarning: find_elements_by_xpath is deprecated. Please use find_elements(by=By.XPATH, value=xpath) instead\n",
      "  scrap_titles = browser.find_elements_by_xpath('//*[@class=\"mj1p6c8 dir dir-ltr\"]')\n"
     ]
    },
    {
     "name": "stdout",
     "output_type": "stream",
     "text": [
      "True\n",
      "True\n",
      "True\n",
      "True\n",
      "True\n",
      "True\n",
      "True\n",
      "True\n",
      "True\n",
      "True\n",
      "True\n",
      "True\n",
      "True\n",
      "True\n",
      "True\n",
      "Finished\n"
     ]
    }
   ],
   "source": [
    "all_prices = []\n",
    "all_titles = []\n",
    "all_description = []\n",
    "all_type_rooms = []\n",
    "all_guests = []\n",
    "def check_exists_by_xpath(xpath):\n",
    "    button = browser.find_element_by_xpath(xpath)\n",
    "    try :\n",
    "        while button :\n",
    "            print('True')\n",
    "            get_titles()\n",
    "            get_title_description()\n",
    "            get_guests()\n",
    "            type_rooms()\n",
    "            get_price()\n",
    "            time.sleep(3)\n",
    "            button.click()\n",
    "            time.sleep(3)\n",
    "    except Exception as ex:\n",
    "        print('Finished')\n",
    "\n",
    "check_exists_by_xpath('//a[@class = \"_1bfat5l\"]')"
   ]
  },
  {
   "cell_type": "code",
   "execution_count": 95,
   "metadata": {},
   "outputs": [
    {
     "data": {
      "text/plain": [
       "(300, 300, 300, 300, 300)"
      ]
     },
     "execution_count": 95,
     "metadata": {},
     "output_type": "execute_result"
    }
   ],
   "source": [
    "len(all_prices) , len(all_titles) , len(all_guests) , len(all_description) , len(all_type_rooms) "
   ]
  },
  {
   "cell_type": "markdown",
   "metadata": {},
   "source": [
    "### Convert Into DataFrame"
   ]
  },
  {
   "cell_type": "code",
   "execution_count": 123,
   "metadata": {},
   "outputs": [],
   "source": [
    "airbnb = {'Title' : all_titles , 'Description' : all_description , \n",
    "'Type of Rooms' : all_type_rooms , 'Allowed Guests': all_guests , 'Price per Night' : all_prices}"
   ]
  },
  {
   "cell_type": "code",
   "execution_count": 124,
   "metadata": {},
   "outputs": [
    {
     "data": {
      "text/html": [
       "<div>\n",
       "<style scoped>\n",
       "    .dataframe tbody tr th:only-of-type {\n",
       "        vertical-align: middle;\n",
       "    }\n",
       "\n",
       "    .dataframe tbody tr th {\n",
       "        vertical-align: top;\n",
       "    }\n",
       "\n",
       "    .dataframe thead th {\n",
       "        text-align: right;\n",
       "    }\n",
       "</style>\n",
       "<table border=\"1\" class=\"dataframe\">\n",
       "  <thead>\n",
       "    <tr style=\"text-align: right;\">\n",
       "      <th></th>\n",
       "      <th>Title</th>\n",
       "      <th>Description</th>\n",
       "      <th>Type of Rooms</th>\n",
       "      <th>Allowed Guests</th>\n",
       "      <th>Price per Night</th>\n",
       "    </tr>\n",
       "  </thead>\n",
       "  <tbody>\n",
       "    <tr>\n",
       "      <th>0</th>\n",
       "      <td>Entire rental unit in Nation</td>\n",
       "      <td>Appartement Porte Dorée</td>\n",
       "      <td>1 bedroom</td>\n",
       "      <td>4 guests</td>\n",
       "      <td>€90</td>\n",
       "    </tr>\n",
       "    <tr>\n",
       "      <th>1</th>\n",
       "      <td>Entire serviced apartment in XIII Arrondissement</td>\n",
       "      <td>Studio double bed - Near subway line 7</td>\n",
       "      <td>Studio</td>\n",
       "      <td>2 guests</td>\n",
       "      <td>€74</td>\n",
       "    </tr>\n",
       "    <tr>\n",
       "      <th>2</th>\n",
       "      <td>Entire rental unit in XIX Arrondissement</td>\n",
       "      <td>Small two rooms well located</td>\n",
       "      <td>1 bedroom</td>\n",
       "      <td>2 guests</td>\n",
       "      <td>€37</td>\n",
       "    </tr>\n",
       "    <tr>\n",
       "      <th>3</th>\n",
       "      <td>Entire rental unit in X Arrondissement</td>\n",
       "      <td>★Cozy Study for 2pat Canal St Martin 75010★</td>\n",
       "      <td>1 bedroom</td>\n",
       "      <td>2 guests</td>\n",
       "      <td>€119</td>\n",
       "    </tr>\n",
       "    <tr>\n",
       "      <th>4</th>\n",
       "      <td>Tiny house in Issy-les-Moulineaux</td>\n",
       "      <td>Modern studio on the outskirts of Paris</td>\n",
       "      <td>Studio</td>\n",
       "      <td>1 guest</td>\n",
       "      <td>€62</td>\n",
       "    </tr>\n",
       "    <tr>\n",
       "      <th>...</th>\n",
       "      <td>...</td>\n",
       "      <td>...</td>\n",
       "      <td>...</td>\n",
       "      <td>...</td>\n",
       "      <td>...</td>\n",
       "    </tr>\n",
       "    <tr>\n",
       "      <th>295</th>\n",
       "      <td>Entire rental unit in Montparnasse</td>\n",
       "      <td>Luxurious Studio Paris 6th</td>\n",
       "      <td>Studio</td>\n",
       "      <td>2 guests</td>\n",
       "      <td>€181</td>\n",
       "    </tr>\n",
       "    <tr>\n",
       "      <th>296</th>\n",
       "      <td>Entire apartment in XIV Arrondissement</td>\n",
       "      <td>Welcoming studio in the quiet center of Malakoff</td>\n",
       "      <td>Studio</td>\n",
       "      <td>2 guests</td>\n",
       "      <td>€83</td>\n",
       "    </tr>\n",
       "    <tr>\n",
       "      <th>297</th>\n",
       "      <td>Entire rental unit in XVI Arrondissement</td>\n",
       "      <td>Apartment with garden</td>\n",
       "      <td>1 bedroom</td>\n",
       "      <td>4 guests</td>\n",
       "      <td>€185</td>\n",
       "    </tr>\n",
       "    <tr>\n",
       "      <th>298</th>\n",
       "      <td>Entire rental unit in XIX Arrondissement</td>\n",
       "      <td>Appartement Belleville Buttes Chaumont</td>\n",
       "      <td>2 bedrooms</td>\n",
       "      <td>5 guests</td>\n",
       "      <td>€295</td>\n",
       "    </tr>\n",
       "    <tr>\n",
       "      <th>299</th>\n",
       "      <td>Entire rental unit in XVII Arrondissement</td>\n",
       "      <td>227-Suite Legendre</td>\n",
       "      <td>2 bedrooms</td>\n",
       "      <td>6 guests</td>\n",
       "      <td>€436</td>\n",
       "    </tr>\n",
       "  </tbody>\n",
       "</table>\n",
       "<p>300 rows × 5 columns</p>\n",
       "</div>"
      ],
      "text/plain": [
       "                                                Title  \\\n",
       "0                        Entire rental unit in Nation   \n",
       "1    Entire serviced apartment in XIII Arrondissement   \n",
       "2            Entire rental unit in XIX Arrondissement   \n",
       "3              Entire rental unit in X Arrondissement   \n",
       "4                   Tiny house in Issy-les-Moulineaux   \n",
       "..                                                ...   \n",
       "295                Entire rental unit in Montparnasse   \n",
       "296            Entire apartment in XIV Arrondissement   \n",
       "297          Entire rental unit in XVI Arrondissement   \n",
       "298          Entire rental unit in XIX Arrondissement   \n",
       "299         Entire rental unit in XVII Arrondissement   \n",
       "\n",
       "                                          Description Type of Rooms  \\\n",
       "0                             Appartement Porte Dorée     1 bedroom   \n",
       "1              Studio double bed - Near subway line 7        Studio   \n",
       "2                        Small two rooms well located     1 bedroom   \n",
       "3         ★Cozy Study for 2pat Canal St Martin 75010★     1 bedroom   \n",
       "4             Modern studio on the outskirts of Paris        Studio   \n",
       "..                                                ...           ...   \n",
       "295                        Luxurious Studio Paris 6th        Studio   \n",
       "296  Welcoming studio in the quiet center of Malakoff        Studio   \n",
       "297                             Apartment with garden     1 bedroom   \n",
       "298            Appartement Belleville Buttes Chaumont    2 bedrooms   \n",
       "299                                227-Suite Legendre    2 bedrooms   \n",
       "\n",
       "    Allowed Guests Price per Night  \n",
       "0         4 guests             €90  \n",
       "1         2 guests             €74  \n",
       "2         2 guests             €37  \n",
       "3         2 guests            €119  \n",
       "4          1 guest             €62  \n",
       "..             ...             ...  \n",
       "295       2 guests            €181  \n",
       "296       2 guests             €83  \n",
       "297       4 guests            €185  \n",
       "298       5 guests            €295  \n",
       "299       6 guests            €436  \n",
       "\n",
       "[300 rows x 5 columns]"
      ]
     },
     "execution_count": 124,
     "metadata": {},
     "output_type": "execute_result"
    }
   ],
   "source": [
    "airbnb_df = pd.DataFrame(airbnb)\n",
    "airbnb_df"
   ]
  },
  {
   "cell_type": "markdown",
   "metadata": {},
   "source": [
    "### Data Cleaning"
   ]
  },
  {
   "cell_type": "code",
   "execution_count": 125,
   "metadata": {},
   "outputs": [],
   "source": [
    "airbnb_df['Price per Night']= airbnb_df['Price per Night'].str.replace('€','')\n",
    "airbnb_df['Price per Night']= airbnb_df['Price per Night'].str.replace('From','')\n",
    "airbnb_df['Price per Night'] = airbnb_df['Price per Night'].astype(int)"
   ]
  },
  {
   "cell_type": "code",
   "execution_count": 129,
   "metadata": {},
   "outputs": [],
   "source": [
    "airbnb_df['Allowed Guests']= airbnb_df['Allowed Guests'].str.replace('guests','')\n",
    "airbnb_df['Allowed Guests']= airbnb_df['Allowed Guests'].str.replace('guest','')\n",
    "airbnb_df['Allowed Guests'] = airbnb_df['Allowed Guests'].astype(int)"
   ]
  },
  {
   "cell_type": "code",
   "execution_count": 130,
   "metadata": {},
   "outputs": [
    {
     "data": {
      "text/html": [
       "<div>\n",
       "<style scoped>\n",
       "    .dataframe tbody tr th:only-of-type {\n",
       "        vertical-align: middle;\n",
       "    }\n",
       "\n",
       "    .dataframe tbody tr th {\n",
       "        vertical-align: top;\n",
       "    }\n",
       "\n",
       "    .dataframe thead th {\n",
       "        text-align: right;\n",
       "    }\n",
       "</style>\n",
       "<table border=\"1\" class=\"dataframe\">\n",
       "  <thead>\n",
       "    <tr style=\"text-align: right;\">\n",
       "      <th></th>\n",
       "      <th>Title</th>\n",
       "      <th>Description</th>\n",
       "      <th>Type of Rooms</th>\n",
       "      <th>Allowed Guests</th>\n",
       "      <th>Price per Night</th>\n",
       "    </tr>\n",
       "  </thead>\n",
       "  <tbody>\n",
       "    <tr>\n",
       "      <th>0</th>\n",
       "      <td>Entire rental unit in Nation</td>\n",
       "      <td>Appartement Porte Dorée</td>\n",
       "      <td>1 bedroom</td>\n",
       "      <td>4</td>\n",
       "      <td>90</td>\n",
       "    </tr>\n",
       "    <tr>\n",
       "      <th>1</th>\n",
       "      <td>Entire serviced apartment in XIII Arrondissement</td>\n",
       "      <td>Studio double bed - Near subway line 7</td>\n",
       "      <td>Studio</td>\n",
       "      <td>2</td>\n",
       "      <td>74</td>\n",
       "    </tr>\n",
       "    <tr>\n",
       "      <th>2</th>\n",
       "      <td>Entire rental unit in XIX Arrondissement</td>\n",
       "      <td>Small two rooms well located</td>\n",
       "      <td>1 bedroom</td>\n",
       "      <td>2</td>\n",
       "      <td>37</td>\n",
       "    </tr>\n",
       "    <tr>\n",
       "      <th>3</th>\n",
       "      <td>Entire rental unit in X Arrondissement</td>\n",
       "      <td>★Cozy Study for 2pat Canal St Martin 75010★</td>\n",
       "      <td>1 bedroom</td>\n",
       "      <td>2</td>\n",
       "      <td>119</td>\n",
       "    </tr>\n",
       "    <tr>\n",
       "      <th>4</th>\n",
       "      <td>Tiny house in Issy-les-Moulineaux</td>\n",
       "      <td>Modern studio on the outskirts of Paris</td>\n",
       "      <td>Studio</td>\n",
       "      <td>1</td>\n",
       "      <td>62</td>\n",
       "    </tr>\n",
       "    <tr>\n",
       "      <th>...</th>\n",
       "      <td>...</td>\n",
       "      <td>...</td>\n",
       "      <td>...</td>\n",
       "      <td>...</td>\n",
       "      <td>...</td>\n",
       "    </tr>\n",
       "    <tr>\n",
       "      <th>295</th>\n",
       "      <td>Entire rental unit in Montparnasse</td>\n",
       "      <td>Luxurious Studio Paris 6th</td>\n",
       "      <td>Studio</td>\n",
       "      <td>2</td>\n",
       "      <td>181</td>\n",
       "    </tr>\n",
       "    <tr>\n",
       "      <th>296</th>\n",
       "      <td>Entire apartment in XIV Arrondissement</td>\n",
       "      <td>Welcoming studio in the quiet center of Malakoff</td>\n",
       "      <td>Studio</td>\n",
       "      <td>2</td>\n",
       "      <td>83</td>\n",
       "    </tr>\n",
       "    <tr>\n",
       "      <th>297</th>\n",
       "      <td>Entire rental unit in XVI Arrondissement</td>\n",
       "      <td>Apartment with garden</td>\n",
       "      <td>1 bedroom</td>\n",
       "      <td>4</td>\n",
       "      <td>185</td>\n",
       "    </tr>\n",
       "    <tr>\n",
       "      <th>298</th>\n",
       "      <td>Entire rental unit in XIX Arrondissement</td>\n",
       "      <td>Appartement Belleville Buttes Chaumont</td>\n",
       "      <td>2 bedrooms</td>\n",
       "      <td>5</td>\n",
       "      <td>295</td>\n",
       "    </tr>\n",
       "    <tr>\n",
       "      <th>299</th>\n",
       "      <td>Entire rental unit in XVII Arrondissement</td>\n",
       "      <td>227-Suite Legendre</td>\n",
       "      <td>2 bedrooms</td>\n",
       "      <td>6</td>\n",
       "      <td>436</td>\n",
       "    </tr>\n",
       "  </tbody>\n",
       "</table>\n",
       "<p>300 rows × 5 columns</p>\n",
       "</div>"
      ],
      "text/plain": [
       "                                                Title  \\\n",
       "0                        Entire rental unit in Nation   \n",
       "1    Entire serviced apartment in XIII Arrondissement   \n",
       "2            Entire rental unit in XIX Arrondissement   \n",
       "3              Entire rental unit in X Arrondissement   \n",
       "4                   Tiny house in Issy-les-Moulineaux   \n",
       "..                                                ...   \n",
       "295                Entire rental unit in Montparnasse   \n",
       "296            Entire apartment in XIV Arrondissement   \n",
       "297          Entire rental unit in XVI Arrondissement   \n",
       "298          Entire rental unit in XIX Arrondissement   \n",
       "299         Entire rental unit in XVII Arrondissement   \n",
       "\n",
       "                                          Description Type of Rooms  \\\n",
       "0                             Appartement Porte Dorée     1 bedroom   \n",
       "1              Studio double bed - Near subway line 7        Studio   \n",
       "2                        Small two rooms well located     1 bedroom   \n",
       "3         ★Cozy Study for 2pat Canal St Martin 75010★     1 bedroom   \n",
       "4             Modern studio on the outskirts of Paris        Studio   \n",
       "..                                                ...           ...   \n",
       "295                        Luxurious Studio Paris 6th        Studio   \n",
       "296  Welcoming studio in the quiet center of Malakoff        Studio   \n",
       "297                             Apartment with garden     1 bedroom   \n",
       "298            Appartement Belleville Buttes Chaumont    2 bedrooms   \n",
       "299                                227-Suite Legendre    2 bedrooms   \n",
       "\n",
       "     Allowed Guests  Price per Night  \n",
       "0                 4               90  \n",
       "1                 2               74  \n",
       "2                 2               37  \n",
       "3                 2              119  \n",
       "4                 1               62  \n",
       "..              ...              ...  \n",
       "295               2              181  \n",
       "296               2               83  \n",
       "297               4              185  \n",
       "298               5              295  \n",
       "299               6              436  \n",
       "\n",
       "[300 rows x 5 columns]"
      ]
     },
     "execution_count": 130,
     "metadata": {},
     "output_type": "execute_result"
    }
   ],
   "source": [
    "airbnb_df"
   ]
  },
  {
   "cell_type": "code",
   "execution_count": 136,
   "metadata": {},
   "outputs": [],
   "source": [
    "airbnb_api = airbnb_df.to_dict(orient=\"records\")\n",
    "with open('airbnb.json','w') as file :\n",
    "    json.dump(airbnb_api,file)"
   ]
  },
  {
   "cell_type": "markdown",
   "metadata": {},
   "source": [
    "### Connect to MongoDB"
   ]
  },
  {
   "cell_type": "code",
   "execution_count": 134,
   "metadata": {},
   "outputs": [],
   "source": [
    "client = MongoClient('localhost', 27017)\n",
    "db = client['airbnb']"
   ]
  },
  {
   "cell_type": "markdown",
   "metadata": {},
   "source": [
    "### Insert In MogoDB"
   ]
  },
  {
   "cell_type": "code",
   "execution_count": 138,
   "metadata": {},
   "outputs": [],
   "source": [
    "with open('airbnb.json') as f:\n",
    "\n",
    "    data = json.load(f)\n",
    "    db.Paris.insert_many(data)"
   ]
  }
 ],
 "metadata": {
  "interpreter": {
   "hash": "070238191ba8086242bc75b747db362d34438ec977f50ee29b1b14ebe32a9a20"
  },
  "kernelspec": {
   "display_name": "Python 3.10.0 64-bit",
   "language": "python",
   "name": "python3"
  },
  "language_info": {
   "codemirror_mode": {
    "name": "ipython",
    "version": 3
   },
   "file_extension": ".py",
   "mimetype": "text/x-python",
   "name": "python",
   "nbconvert_exporter": "python",
   "pygments_lexer": "ipython3",
   "version": "3.10.0"
  },
  "orig_nbformat": 4
 },
 "nbformat": 4,
 "nbformat_minor": 2
}
