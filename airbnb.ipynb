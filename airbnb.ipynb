{
 "cells": [
  {
   "cell_type": "code",
   "execution_count": 79,
   "metadata": {},
   "outputs": [],
   "source": [
    "import time \n",
    "import pandas as pd\n",
    "from selenium import webdriver\n",
    "import json\n",
    "from pymongo import MongoClient\n",
    "import pymongo"
   ]
  },
  {
   "cell_type": "markdown",
   "metadata": {},
   "source": [
    "### Selenium Driver"
   ]
  },
  {
   "cell_type": "code",
   "execution_count": 2,
   "metadata": {},
   "outputs": [
    {
     "name": "stderr",
     "output_type": "stream",
     "text": [
      "C:\\Users\\Yassine\\AppData\\Local\\Temp\\ipykernel_9560\\701231104.py:1: DeprecationWarning: executable_path has been deprecated, please pass in a Service object\n",
      "  browser = webdriver.Chrome('C:\\\\Users\\\\Yassine\\\\Documents\\\\Python_Projects\\\\Beginner\\\\basics\\\\chromedriver.exe')\n"
     ]
    }
   ],
   "source": [
    "browser = webdriver.Chrome('C:\\\\Users\\\\Yassine\\\\Documents\\\\Python_Projects\\\\Beginner\\\\basics\\\\chromedriver.exe')"
   ]
  },
  {
   "cell_type": "markdown",
   "metadata": {},
   "source": [
    "### Website"
   ]
  },
  {
   "cell_type": "code",
   "execution_count": 3,
   "metadata": {},
   "outputs": [],
   "source": [
    "browser.get('https://www.airbnb.com/s/Montpellier/homes?tab_id=home_tab&refinement_paths%5B%5D=%2Fhomes&flexible_trip_dates%5B%5D=april&flexible_trip_dates%5B%5D=march&flexible_trip_lengths%5B%5D=weekend_trip&date_picker_type=calendar&query=Montpellier&checkin=2022-04-01&checkout=2022-04-14&source=structured_search_input_header&search_type=autocomplete_click&place_id=ChIJsZ3dJQevthIRAuiUKHRWh60')"
   ]
  },
  {
   "cell_type": "markdown",
   "metadata": {},
   "source": [
    "# get titles"
   ]
  },
  {
   "cell_type": "code",
   "execution_count": 80,
   "metadata": {},
   "outputs": [],
   "source": [
    "def get_titles():\n",
    "    scrap_titles = browser.find_elements_by_xpath('//*[@class=\"mj1p6c8 dir dir-ltr\"]')\n",
    "    titles = [scrap.text for scrap in scrap_titles]\n",
    "    all_titles.extend(titles)\n"
   ]
  },
  {
   "cell_type": "markdown",
   "metadata": {},
   "source": [
    "### Get Price per Night"
   ]
  },
  {
   "cell_type": "code",
   "execution_count": 81,
   "metadata": {},
   "outputs": [],
   "source": [
    "def get_price():\n",
    "    scrap_prices = browser.find_elements_by_xpath('//*[@class=\"p1qe1cgb dir dir-ltr\"]/div/div/div/div/span[@class=\"_tyxjp1\"]')\n",
    "    prices = [price.text for price in scrap_prices]\n",
    "    all_prices.extend(prices)"
   ]
  },
  {
   "cell_type": "markdown",
   "metadata": {},
   "source": [
    "### Scrap Number allowed Guests"
   ]
  },
  {
   "cell_type": "code",
   "execution_count": 82,
   "metadata": {},
   "outputs": [],
   "source": [
    "def get_guests():\n",
    "    scrap_nb_guests = browser.find_elements_by_xpath(\"//div[@class='i1wgresd dir dir-ltr'][1]/span[1]\")\n",
    "    nb_guests = [x.text for x in scrap_nb_guests]\n",
    "    all_guests.extend(nb_guests)"
   ]
  },
  {
   "cell_type": "markdown",
   "metadata": {},
   "source": [
    "### Scrap Rooms Disposition"
   ]
  },
  {
   "cell_type": "code",
   "execution_count": 83,
   "metadata": {},
   "outputs": [],
   "source": [
    "def type_rooms() :\n",
    "    scrap_type_rooms = browser.find_elements_by_xpath(\"//div[@class='i1wgresd dir dir-ltr'][1]/span[3]\")\n",
    "    type_rooms = [x.text for x in scrap_type_rooms]\n",
    "    all_type_rooms.extend(type_rooms)"
   ]
  },
  {
   "cell_type": "markdown",
   "metadata": {},
   "source": [
    "### Scrap Details Proprety"
   ]
  },
  {
   "cell_type": "code",
   "execution_count": 2,
   "metadata": {},
   "outputs": [],
   "source": [
    "def get_details_proprety() :\n",
    "    \n",
    "    scrap_proprety_details = browser.find_elements_by_xpath('//div[@class=\"i1wgresd dir dir-ltr\"][last()]')\n",
    "    details = [x.text for x in scrap_proprety_details]\n",
    "    all_proprety_details.extend(details)"
   ]
  },
  {
   "cell_type": "markdown",
   "metadata": {},
   "source": [
    "### Scrap Link "
   ]
  },
  {
   "cell_type": "code",
   "execution_count": 1,
   "metadata": {},
   "outputs": [],
   "source": [
    "def get_link() : \n",
    "    scrap_link = browser.find_elements_by_xpath('//div[@class=\"cm4lcvy dir dir-ltr\"]/a')\n",
    "    links = [l.get_attribute('href') for l in scrap_link]\n",
    "    all_links.extend(links)"
   ]
  },
  {
   "cell_type": "markdown",
   "metadata": {},
   "source": [
    "### Scrap Title Description"
   ]
  },
  {
   "cell_type": "code",
   "execution_count": 84,
   "metadata": {},
   "outputs": [],
   "source": [
    "def get_title_description() :\n",
    "    scrap_title_desciption = browser.find_elements_by_xpath(\"//span[@class='ts5gl90 tl3qa0j t1nzedvd dir dir-ltr']\")\n",
    "    descriptions = [description.text for description in scrap_title_desciption]\n",
    "    all_description.extend(descriptions)"
   ]
  },
  {
   "cell_type": "markdown",
   "metadata": {},
   "source": [
    "### Scrap ALL Pages"
   ]
  },
  {
   "cell_type": "code",
   "execution_count": 3,
   "metadata": {},
   "outputs": [],
   "source": [
    "all_prices = []\n",
    "all_titles = []\n",
    "all_description = []\n",
    "all_type_rooms = []\n",
    "all_guests = []\n",
    "all_links = []\n",
    "all_proprety_details = []\n",
    "def check_exists_by_xpath(xpath):\n",
    "    button = browser.find_element_by_xpath(xpath)\n",
    "    try :\n",
    "        while button :\n",
    "            print('True')\n",
    "            get_titles()\n",
    "            get_title_description()\n",
    "            get_guests()\n",
    "            type_rooms()\n",
    "            get_details_proprety()\n",
    "            get_price()\n",
    "            get_link()\n",
    "            button.click()\n",
    "            time.sleep(3)\n",
    "    except :\n",
    "        print('Finished')\n",
    "check_exists_by_xpath('//a[@class = \"_1bfat5l\"]')"
   ]
  },
  {
   "cell_type": "code",
   "execution_count": 95,
   "metadata": {},
   "outputs": [
    {
     "data": {
      "text/plain": [
       "(300, 300, 300, 300, 300)"
      ]
     },
     "execution_count": 95,
     "metadata": {},
     "output_type": "execute_result"
    }
   ],
   "source": [
    "len(all_prices) , len(all_titles) , len(all_guests) , len(all_description) , len(all_type_rooms)"
   ]
  },
  {
   "cell_type": "markdown",
   "metadata": {},
   "source": [
    "### Convert Into DataFrame"
   ]
  },
  {
   "cell_type": "code",
   "execution_count": 123,
   "metadata": {},
   "outputs": [],
   "source": [
    "airbnb = {'Title' : all_titles , 'Description' : all_description , 'Type of Rooms' : all_type_rooms , 'Allowed Guests': all_guests ,'Details Proprety' : all_proprety_details ,'Price per Night' : all_prices,'Link': all_links}"
   ]
  },
  {
   "cell_type": "code",
   "execution_count": null,
   "metadata": {},
   "outputs": [],
   "source": [
    "df = pd.DataFrame(airbnb)"
   ]
  },
  {
   "cell_type": "markdown",
   "metadata": {},
   "source": [
    "### Data Cleaning"
   ]
  },
  {
   "cell_type": "code",
   "execution_count": 125,
   "metadata": {},
   "outputs": [],
   "source": [
    "df['Price per Night']= df['Price per Night'].str.replace('€','')\n",
    "df['Price per Night']= df['Price per Night'].str.replace('$','')\n",
    "df['Price per Night']= df['Price per Night'].str.replace(',','')\n",
    "df['Price per Night']= df['Price per Night'].str.replace('From','')\n",
    "df['Price per Night'] = df['Price per Night'].astype(int)"
   ]
  },
  {
   "cell_type": "code",
   "execution_count": 129,
   "metadata": {},
   "outputs": [],
   "source": [
    "df['Allowed Guests']= df['Allowed Guests'].str.replace('guests','')\n",
    "df['Allowed Guests']= df['Allowed Guests'].str.replace('guest','')\n",
    "df['Allowed Guests']= df['Allowed Guests'].str.replace('room types','')\n",
    "df['Allowed Guests'] = df['Allowed Guests'].astype(int)"
   ]
  },
  {
   "cell_type": "code",
   "execution_count": 136,
   "metadata": {},
   "outputs": [],
   "source": [
    "airbnb_api = df.to_dict(orient=\"records\")\n",
    "with open('airbnb.json','w') as file :\n",
    "    json.dump(airbnb_api,file)"
   ]
  },
  {
   "cell_type": "markdown",
   "metadata": {},
   "source": [
    "### Connect to MongoDB"
   ]
  },
  {
   "cell_type": "code",
   "execution_count": 134,
   "metadata": {},
   "outputs": [],
   "source": [
    "client = MongoClient('localhost', 27017)\n",
    "db = client['airbnb']"
   ]
  },
  {
   "cell_type": "markdown",
   "metadata": {},
   "source": [
    "### Insert In MongoDB"
   ]
  },
  {
   "cell_type": "code",
   "execution_count": 138,
   "metadata": {},
   "outputs": [],
   "source": [
    "with open('airbnb.json') as f:\n",
    "    data = json.load(f)\n",
    "    db.Montpellier.insert_many(data)"
   ]
  }
 ],
 "metadata": {
  "interpreter": {
   "hash": "070238191ba8086242bc75b747db362d34438ec977f50ee29b1b14ebe32a9a20"
  },
  "kernelspec": {
   "display_name": "Python 3.10.0 64-bit",
   "language": "python",
   "name": "python3"
  },
  "language_info": {
   "codemirror_mode": {
    "name": "ipython",
    "version": 3
   },
   "file_extension": ".py",
   "mimetype": "text/x-python",
   "name": "python",
   "nbconvert_exporter": "python",
   "pygments_lexer": "ipython3",
   "version": "3.10.0"
  },
  "orig_nbformat": 4
 },
 "nbformat": 4,
 "nbformat_minor": 2
}
